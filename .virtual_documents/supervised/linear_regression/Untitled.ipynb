


import numpy as np
import matplotlib.pyplot as plt
from sklearn.linear_model import SGDRegressor
from sklearn.preprocessing import StandardScaler
from lab_utils_multi import load_house_data
from lab_utils_common import dlc
np.set_printoptions(precision=2)
plt.style.use("./deeplearning.mplstyle")


# Load dataset
X_train, y_train = load_house_data()
X_features = ['size(sqft)', 'bedrooms', 'floors', 'age']


# Scale/Normalize

scaler = StandardScaler()
X_norm = scaler.fit_transform(X_train)


# Create/fit the regression model
sgdr= SGDRegressor(max_iter=1000)
sgdr.fit(X_norm, y_train)
print(sgdr)
print(sgdr.n_iter_)
print(sgdr.t_)


# View Parameters

b_norm = sgdr.intercept_
w_norm = sgdr.coef_
print(w_norm, b_norm)


y_pred_sgd = sgdr.predict(X_norm)
y_pred = np.dot(X_norm, w_norm) + b_norm

print((y_pred_sgd == y_pred).all())
print(y_pred[:4])
print(y_train[:4])


fig, ax = plt.subplots(1,4, figsize=(12,3), sharey=True)
for i in range(len(ax)):
    ax[i].scatter(X_train[:,i], y_train, label="target")
    ax[i].set_x_label(X_features[i])
    ax[i].scatter(X_train[:,i], y_pred, color=dlc['dlorange'], label = 'predict')
ax[0].set_ylabel("Price"); ax[0].legend()
plt.show()



