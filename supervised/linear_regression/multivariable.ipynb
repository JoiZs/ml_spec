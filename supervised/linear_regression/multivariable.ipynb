{
 "cells": [
  {
   "cell_type": "code",
   "execution_count": 29,
   "id": "9f4e34c9-e6b9-405b-98eb-631180af272c",
   "metadata": {},
   "outputs": [],
   "source": [
    "import numpy as np\n",
    "import copy,math\n",
    "import matplotlib.pyplot as plt\n",
    "from datetime import datetime\n",
    "plt.style.use('./deeplearning.mplstyle')\n",
    "np.set_printoptions(precision=2)"
   ]
  },
  {
   "cell_type": "markdown",
   "id": "37caae1a-0a7d-4f66-9df3-a706eca43bb9",
   "metadata": {},
   "source": [
    "\n",
    "| Size (sqft) | Number of Bedrooms  | Number of floors | Age of  Home | Price (1000s dollars)  |   \n",
    "| ----------------| ------------------- |----------------- |--------------|-------------- |  \n",
    "| 2104            | 5                   | 1                | 45           | 460           |  \n",
    "| 1416            | 3                   | 2                | 40           | 232           |  \n",
    "| 852             | 2                   | 1                | 35           | 178           |  "
   ]
  },
  {
   "cell_type": "code",
   "execution_count": 4,
   "id": "fe6b1189-0ddd-4d15-916a-7d2af5417539",
   "metadata": {},
   "outputs": [],
   "source": [
    "x_train = np.array([[2104,5,1,45],[1416,3,2,40],[852,2,1,35]])\n",
    "y_train = np.array([460,232,178])"
   ]
  },
  {
   "cell_type": "code",
   "execution_count": 11,
   "id": "d7c6cb88-f921-4067-a452-abb565a65ad5",
   "metadata": {},
   "outputs": [
    {
     "name": "stdout",
     "output_type": "stream",
     "text": [
      "X Shape: (3, 4), X Type: <class 'numpy.ndarray'>)\n",
      "[[2104    5    1   45]\n",
      " [1416    3    2   40]\n",
      " [ 852    2    1   35]]\n",
      "Y_Shape:(3,), Y Type: <class 'numpy.ndarray'>\n",
      "[460 232 178]\n"
     ]
    }
   ],
   "source": [
    "# data stored in numpy array/matrix\n",
    "\n",
    "print(f\"X Shape: {x_train.shape}, X Type: {type(x_train)})\")\n",
    "print(x_train)\n",
    "print(f\"Y_Shape:{y_train.shape}, Y Type: {type(y_train)}\")\n",
    "print(y_train)"
   ]
  },
  {
   "cell_type": "code",
   "execution_count": 14,
   "id": "34078a6d-87ac-4253-89cf-406e30e9c954",
   "metadata": {},
   "outputs": [
    {
     "name": "stdout",
     "output_type": "stream",
     "text": [
      "w_init shape: (4,), b_init type: <class 'float'>\n"
     ]
    }
   ],
   "source": [
    "# init parameters\n",
    "b_init = 785.12937575806\n",
    "w_init = np.array([0.39133535, 18.75376741, -53.36032453, -26.42131618])\n",
    "print(f\"w_init shape: {w_init.shape}, b_init type: {type(b_init)}\")"
   ]
  },
  {
   "cell_type": "code",
   "execution_count": 16,
   "id": "84737b91-e9cc-47c9-8673-f7be841d592c",
   "metadata": {},
   "outputs": [],
   "source": [
    "# Single Prediction element by element\n",
    "\n",
    "def predict_single_loop(x, w, b):\n",
    "    n = x.shape[0] # num of features\n",
    "    p = 0\n",
    "    for i in range(n):\n",
    "        p_i = x[i]*w[i]\n",
    "        p += p_i\n",
    "    p += b\n",
    "    return p"
   ]
  },
  {
   "cell_type": "code",
   "execution_count": 32,
   "id": "d4806319-071d-481d-a5be-448815c0f562",
   "metadata": {},
   "outputs": [
    {
     "name": "stdout",
     "output_type": "stream",
     "text": [
      "x_vec shape (4,), x_vec value: [2104    5    1   45]\n",
      "time: 0:00:00.000117\n",
      "f_wb shape (), prediction: 459.94823657806\n"
     ]
    }
   ],
   "source": [
    "# get a row from our training data\n",
    "x_vec = x_train [0,:]\n",
    "print(f\"x_vec shape {x_vec.shape}, x_vec value: {x_vec}\")\n",
    "\n",
    "# make prediction\n",
    "start = datetime.now()\n",
    "f_wb = predict_single_loop(x_vec, w_init, b_init)\n",
    "print(f\"time: {datetime.now()-start}\")\n",
    "print(f\"f_wb shape {f_wb.shape}, prediction: {f_wb}\")"
   ]
  },
  {
   "cell_type": "code",
   "execution_count": 26,
   "id": "8bd80b48-4e72-467d-9b2f-8ea8dee92a84",
   "metadata": {},
   "outputs": [],
   "source": [
    "# Single predict, vector (using np.dot)\n",
    "def predict(x,w,b):\n",
    "    p = np.dot(x,w)+b\n",
    "    return p"
   ]
  },
  {
   "cell_type": "code",
   "execution_count": 33,
   "id": "7b5819a0-9f45-4424-9e49-85b484633caa",
   "metadata": {},
   "outputs": [
    {
     "name": "stdout",
     "output_type": "stream",
     "text": [
      "x_vec shape (4,), x_vec value: [2104    5    1   45]\n",
      "time: 0:00:00.003245\n",
      "f_wb shape (), prediction: 459.94823657806\n"
     ]
    }
   ],
   "source": [
    "# get a row from our training data\n",
    "x_vec = x_train [0,:]\n",
    "print(f\"x_vec shape {x_vec.shape}, x_vec value: {x_vec}\")\n",
    "\n",
    "# make prediction\n",
    "start = datetime.now()\n",
    "f_wb = predict(x_vec, w_init, b_init)\n",
    "print(f\"time: {datetime.now()-start}\")\n",
    "print(f\"f_wb shape {f_wb.shape}, prediction: {f_wb}\")"
   ]
  },
  {
   "cell_type": "code",
   "execution_count": 36,
   "id": "5184f9e1-c0af-4162-8135-539f0f77ccb3",
   "metadata": {},
   "outputs": [],
   "source": [
    "# Compute Cost J(w,b)\n",
    "def compute_cost(x,y, w,b):\n",
    "    m = x.shape[0]\n",
    "    cost = 0.0\n",
    "    for i in range(m):\n",
    "        f_wb_i = np.dot(x[i],w)+b\n",
    "        cost += (f_wb_i - y[i]) **2\n",
    "    cost /= 2*m\n",
    "    return cost"
   ]
  },
  {
   "cell_type": "code",
   "execution_count": 38,
   "id": "e3163698-45f6-4939-a895-cce53677c1ab",
   "metadata": {},
   "outputs": [
    {
     "name": "stdout",
     "output_type": "stream",
     "text": [
      "optimal cost: 0.001339689346395045\n"
     ]
    }
   ],
   "source": [
    "cost = compute_cost(x_train, y_train, w_init, b_init)\n",
    "print(f\"optimal cost: {cost}\")"
   ]
  },
  {
   "cell_type": "code",
   "execution_count": 43,
   "id": "704f438e-c8d4-41c3-b98f-54862f9387cb",
   "metadata": {},
   "outputs": [],
   "source": [
    "# compute gradient descent\n",
    "def compute_gradient(x,y,w,b):\n",
    "    m,n = x.shape\n",
    "    dj_dw = np.zeros((n, ))\n",
    "    dj_db = 0.0\n",
    "\n",
    "    for i in range(m):\n",
    "        # compute err for each record\n",
    "        err = (np.dot(x[i],w)+b) - y[i]\n",
    "        for j in range(n):\n",
    "            # compute gradient for w\n",
    "            dj_dw[j]+= err * x[i,j]\n",
    "        # gradient for b\n",
    "        dj_db += err\n",
    "        dj_dw /=m\n",
    "        dj_db/=m\n",
    "\n",
    "    return dj_db, dj_dw\n",
    "            \n",
    "    "
   ]
  },
  {
   "cell_type": "code",
   "execution_count": 44,
   "id": "9bc61c90-01cd-4277-b12f-05f869b71b0d",
   "metadata": {},
   "outputs": [
    {
     "name": "stdout",
     "output_type": "stream",
     "text": [
      "dj_db at initial w,b: -0.024922589082258903\n",
      "dj_dw at initial w,b: [-26.88  -0.06  -0.03  -0.92]\n"
     ]
    }
   ],
   "source": [
    "temp_dj_db, temp_dj_dw = compute_gradient(x_train, y_train, w_init,b_init)\n",
    "print(f\"dj_db at initial w,b: {temp_dj_db}\")\n",
    "print(f\"dj_dw at initial w,b: {temp_dj_dw}\")"
   ]
  },
  {
   "cell_type": "code",
   "execution_count": 48,
   "id": "f4d643cd-4580-49ff-be2c-0e551bf4028d",
   "metadata": {},
   "outputs": [],
   "source": [
    "# Gradient Descent\n",
    "def gradient_descent(x,y,w_in, b_in, costfn, gradientfn, alpha, num_it):\n",
    "    J_History = [] #CostHist\n",
    "    w = copy.deepcopy(w_in) #avoid modifying globl w within function\n",
    "    b = b_in\n",
    "\n",
    "    # Loop for num_it (times) iterations\n",
    "    for i in range(num_it):\n",
    "        # Calculate the gradients\n",
    "        dj_db, dj_dw = compute_gradient(x,y,w,b)\n",
    "\n",
    "        # Update parameters using w,b, alpha & gradient\n",
    "        w -= alpha * dj_dw\n",
    "        b -= alpha * dj_db\n",
    "\n",
    "        # Save cost J at each iteration\n",
    "        if i < 100000:\n",
    "            J_History.append(costfn(x,y,w,b))\n",
    "\n",
    "        # Print cost every at intervals 10 times\n",
    "\n",
    "        if i% math.ceil(num_it/10) == 0:\n",
    "            print(f\"Iteration{i:4d}, Cost {J_History[-1]:8.2f} \")\n",
    "\n",
    "    return w,b,J_History\n",
    "                             \n"
   ]
  },
  {
   "cell_type": "code",
   "execution_count": 52,
   "id": "c03f8123-dc8a-4ac4-97c5-d03b15797a56",
   "metadata": {},
   "outputs": [
    {
     "name": "stdout",
     "output_type": "stream",
     "text": [
      "Iteration   0, Cost 24346.52 \n",
      "Iteration 100, Cost   753.49 \n",
      "Iteration 200, Cost   753.67 \n",
      "Iteration 300, Cost   753.86 \n",
      "Iteration 400, Cost   754.04 \n",
      "Iteration 500, Cost   754.22 \n",
      "Iteration 600, Cost   754.40 \n",
      "Iteration 700, Cost   754.58 \n",
      "Iteration 800, Cost   754.76 \n",
      "Iteration 900, Cost   754.94 \n",
      "b,w found by gradient descent: 0.00,[ 0.2   0.   -0.    0.01] \n",
      "prediction: 411.00, target value: 460\n",
      "prediction: 276.74, target value: 232\n",
      "prediction: 166.66, target value: 178\n"
     ]
    }
   ],
   "source": [
    "# init parameters\n",
    "init_w = np.zeros_like(w_init)\n",
    "init_b = 0.\n",
    "\n",
    "# some gradient descent setttings\n",
    "iterations = 1000\n",
    "alpha = 5.0e-7\n",
    "\n",
    "# run gradient descent\n",
    "w_final, b_final, J_Hist = gradient_descent(x_train, y_train, init_w, init_b, compute_cost, compute_gradient, alpha, iterations)\n",
    "print(f\"b,w found by gradient descent: {b_final:0.2f},{w_final} \")\n",
    "m,_ = x_train.shape\n",
    "for i in range(m):\n",
    "    print(f\"prediction: {np.dot(x_train[i], w_final) + b_final:0.2f}, target value: {y_train[i]}\")"
   ]
  },
  {
   "cell_type": "code",
   "execution_count": 56,
   "id": "ab1a10c7-81da-40ba-a62b-7327e344ec6b",
   "metadata": {},
   "outputs": [
    {
     "data": {
      "image/png": "[encoded data removed]",
      "text/plain": [
       "<Figure size 1200x400 with 2 Axes>"
      ]
     },
     "metadata": {},
     "output_type": "display_data"
    }
   ],
   "source": [
    "# Plot cost vs iterations\n",
    "\n",
    "fig, (ax1, ax2) = plt.subplots(1,2, constrained_layout=True, figsize=(12,4))\n",
    "ax1.plot(J_Hist)\n",
    "ax2.plot(100+ np.arange(len(J_Hist[100:])), J_Hist[100:])\n",
    "ax1.set_title(\"Cost vs iteration\"); ax2.set_title(\"Cost vs iteration (tail)\")\n",
    "ax1.set_ylabel(\"Cost\"); ax2.set_ylabel(\"Cost\")\n",
    "ax2.set_xlabel(\"iteration setp\"); ax2.set_xlabel(\"iteration step\")\n",
    "plt.show()"
   ]
  },
  {
   "cell_type": "code",
   "execution_count": null,
   "id": "fe1cd551-821b-481a-8ea1-c46cb5852cfa",
   "metadata": {},
   "outputs": [],
   "source": []
  }
 ],
 "metadata": {
  "kernelspec": {
   "display_name": "Python 3 (ipykernel)",
   "language": "python",
   "name": "python3"
  },
  "language_info": {
   "codemirror_mode": {
    "name": "ipython",
    "version": 3
   },
   "file_extension": ".py",
   "mimetype": "text/x-python",
   "name": "python",
   "nbconvert_exporter": "python",
   "pygments_lexer": "ipython3",
   "version": "3.12.7"
  }
 },
 "nbformat": 4,
 "nbformat_minor": 5
}
